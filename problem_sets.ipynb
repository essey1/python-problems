{
 "cells": [
  {
   "cell_type": "markdown",
   "id": "c8c2644f-4f58-47f1-97b8-1f501d2e8fd9",
   "metadata": {},
   "source": [
    "# Python Problem Sets"
   ]
  },
  {
   "cell_type": "markdown",
   "id": "69a14ba2-223f-4a52-9bfe-3ca65064317c",
   "metadata": {},
   "source": [
    "### 1. Simple Mathematical Operations\n",
    "This program takes two numbers as input from the user and prints their sum, difference, product and quotient."
   ]
  },
  {
   "cell_type": "code",
   "execution_count": 18,
   "id": "49676678-e854-425b-bea2-845cf54989ce",
   "metadata": {},
   "outputs": [
    {
     "name": "stdout",
     "output_type": "stream",
     "text": [
      "5.0 + 8.0 = 13.0\n",
      "5.0 - 8.0 = -3.0\n",
      "5.0 * 8.0 = 40.0\n",
      "5.0 / 8.0 = 0.625\n"
     ]
    }
   ],
   "source": [
    "def calculate_operations(num1, num2):\n",
    "    sum = num1 + num2\n",
    "    difference = num1 - num2\n",
    "    product = num1 * num2\n",
    "    quotient = num1 / num2\n",
    "\n",
    "    print(num1, \"+\", num2, \"=\", sum)\n",
    "    print(num1, \"-\", num2, \"=\", difference)\n",
    "    print(num1, \"*\", num2, \"=\", product)\n",
    "    print(num1, \"/\", num2, \"=\", quotient)\n",
    "\n",
    "num1 = float(input(\"Enter the first number: \"))\n",
    "num2 = float(input(\"Enter the second number: \"))\n",
    "\n",
    "calculate_operations(num1, num2)"
   ]
  },
  {
   "cell_type": "markdown",
   "id": "c6206e0b-6bb5-47c0-962d-73bd7296020d",
   "metadata": {},
   "source": [
    "### 2. Calculator\n",
    "A simple calculator which can perform basic arithmetic operations. (+, -, *, /, %, **).<br>\n",
    "It uses a while loop to perform an operation based on the users request."
   ]
  },
  {
   "cell_type": "code",
   "execution_count": 16,
   "id": "4892ac69-6cdb-4bce-84b4-83af5a9b159b",
   "metadata": {},
   "outputs": [
    {
     "name": "stdout",
     "output_type": "stream",
     "text": [
      "Welcome! I'm a calculator.\n",
      "And these are the arithmetic operations I can do.\n",
      "Enter 'add' to perform addition.\n",
      "Enter 'subtract' to perform subtraction.\n",
      "Enter 'multiply' to perform multiplication.\n",
      "Enter 'divide' to perform division.\n",
      "Enter 'remaineder' to calculate the remainder.\n",
      "Enter 'power' to calculate exponentiation.\n",
      "Enter 'quit' to exit the program.\n",
      "21.0 + 44.5 = 65.5\n",
      "12.0 - 30.0 = -18.0\n",
      "8.0 * 9.0 = 72.0\n",
      "6.0 / 4.0 = 1.5\n",
      "13.0 % 5.0 = 3.0\n",
      "5.0 ** 3.0 = 125.0\n",
      "Invalid operation. Please try again.\n",
      "Exited the calculator program successfully.\n"
     ]
    }
   ],
   "source": [
    "def calculator():\n",
    "    print(\"Welcome! I'm a calculator.\\nAnd these are the arithmetic operations I can do.\")\n",
    "    print(\"Enter 'add' to perform addition.\")\n",
    "    print(\"Enter 'subtract' to perform subtraction.\")\n",
    "    print(\"Enter 'multiply' to perform multiplication.\")\n",
    "    print(\"Enter 'divide' to perform division.\")\n",
    "    print(\"Enter 'remaineder' to calculate the remainder.\")\n",
    "    print(\"Enter 'power' to calculate exponentiation.\")\n",
    "    print(\"Enter 'quit' to exit the program.\")\n",
    "\n",
    "    while True:\n",
    "        instruction = input(\"Enter an arithmetic operation: \")\n",
    "\n",
    "        if instruction == \"add\":\n",
    "            num1 = float(input(\"Enter the first number: \"))\n",
    "            num2 = float(input(\"Enter the second number: \"))\n",
    "            result = num1 + num2\n",
    "            print(num1, \"+\", num2, \"=\", result)\n",
    "        elif instruction == \"subtract\":\n",
    "            num1 = float(input(\"Enter the first number: \"))\n",
    "            num2 = float(input(\"Enter the second number: \"))\n",
    "            result = num1 - num2\n",
    "            print(num1, \"-\", num2, \"=\", result)\n",
    "        elif instruction == \"multiply\":\n",
    "            num1 = float(input(\"Enter the first number: \"))\n",
    "            num2 = float(input(\"Enter the second number: \"))\n",
    "            result = num1 * num2\n",
    "            print(num1, \"*\", num2, \"=\", result)\n",
    "        elif instruction == \"divide\":\n",
    "            num1 = float(input(\"Enter the first number: \"))\n",
    "            num2 = float(input(\"Enter the second number: \"))\n",
    "            result = num1 / num2\n",
    "            print(num1, \"/\", num2, \"=\", result)\n",
    "        elif instruction == \"remainder\":\n",
    "            num1 = float(input(\"Enter the first number: \"))\n",
    "            num2 = float(input(\"Enter the second number: \"))\n",
    "            result = num1 % num2\n",
    "            print(num1, \"%\", num2, \"=\", result)\n",
    "        elif instruction == \"power\":\n",
    "            num1 = float(input(\"Enter the base number: \"))\n",
    "            num2 = float(input(\"Enter the exponent: \"))\n",
    "            result = num1 ** num2\n",
    "            print(num1, \"**\", num2, \"=\", result)\n",
    "        elif instruction == \"quit\":\n",
    "            print(\"Exited the calculator program successfully.\")\n",
    "            break\n",
    "        else:\n",
    "            print(\"Invalid operation. Please try again.\")\n",
    "\n",
    "calculator()"
   ]
  },
  {
   "cell_type": "markdown",
   "id": "959f2f91-7b6b-46f2-863a-a1489869670f",
   "metadata": {},
   "source": [
    "### 3. Multiplication Table\n",
    "A program that prints a multiplication table for a given number.<br>\n",
    "It uses a for loop to multiply the number inputted by the user with numbers from 1 up to 12. "
   ]
  },
  {
   "cell_type": "code",
   "execution_count": 22,
   "id": "da5a5637-1420-450f-99b9-d994ac58c773",
   "metadata": {},
   "outputs": [
    {
     "name": "stdout",
     "output_type": "stream",
     "text": [
      "Enter a number:  23\n"
     ]
    },
    {
     "name": "stdout",
     "output_type": "stream",
     "text": [
      "Multiplication Table for 23\n",
      "23 x 1 = 23\n",
      "23 x 2 = 46\n",
      "23 x 3 = 69\n",
      "23 x 4 = 92\n",
      "23 x 5 = 115\n",
      "23 x 6 = 138\n",
      "23 x 7 = 161\n",
      "23 x 8 = 184\n",
      "23 x 9 = 207\n",
      "23 x 10 = 230\n",
      "23 x 11 = 253\n",
      "23 x 12 = 276\n"
     ]
    }
   ],
   "source": [
    "def multiplication_table(num):\n",
    "    print(\"Multiplication Table for\", num)\n",
    "\n",
    "    for i in range(1, 13):\n",
    "        result = num * i\n",
    "        print(num, \"x\", i, \"=\", result)\n",
    "\n",
    "number = int(input(\"Enter a number: \"))\n",
    "multiplication_table(number)"
   ]
  },
  {
   "cell_type": "markdown",
   "id": "ab28b183-5d71-447e-aaf2-f00c83ffdcbc",
   "metadata": {},
   "source": [
    "### 4. Area and Perimeter of a rectangle\n",
    "This program that calculates the area and perimeter of a rectangle given its length and width."
   ]
  },
  {
   "cell_type": "code",
   "execution_count": 25,
   "id": "d6f6ec1a-6ddf-497b-9413-884dcaa4bb8d",
   "metadata": {},
   "outputs": [
    {
     "name": "stdout",
     "output_type": "stream",
     "text": [
      "Enter the length of the rectangle:  12\n",
      "Enter the width of the rectangle:  8\n"
     ]
    },
    {
     "name": "stdout",
     "output_type": "stream",
     "text": [
      "Area: 96.0\n",
      "Perimeter: 40.0\n"
     ]
    }
   ],
   "source": [
    "def calculate_area(length, width):\n",
    "    area = length * width\n",
    "    return area\n",
    "\n",
    "def calculate_perimeter(length, width):\n",
    "    perimeter = 2 * (length + width)\n",
    "    return perimeter\n",
    "\n",
    "# Get the length and width from the user\n",
    "length = float(input(\"Enter the length of the rectangle: \"))\n",
    "width = float(input(\"Enter the width of the rectangle: \"))\n",
    "\n",
    "# Calculate area and perimeter\n",
    "area = calculate_area(length, width)\n",
    "perimeter = calculate_perimeter(length, width)\n",
    "\n",
    "# Print the results\n",
    "print(\"Area:\", area)\n",
    "print(\"Perimeter:\", perimeter)"
   ]
  },
  {
   "cell_type": "markdown",
   "id": "a6b41529-712d-4805-9dde-5687c26f94b5",
   "metadata": {},
   "source": [
    "### 5. Vowel Counter\n",
    "A program that counts the number of vowels in a given string.<br>\n",
    "It uses a for loop to iterate over the string and count the vowels."
   ]
  },
  {
   "cell_type": "code",
   "execution_count": 22,
   "id": "2224bc66-bf57-42cf-a7a3-ba71f7a4f68a",
   "metadata": {},
   "outputs": [
    {
     "name": "stdout",
     "output_type": "stream",
     "text": [
      "String: Introduction to programming with python\n",
      "Number of vowel(s): 11\n"
     ]
    }
   ],
   "source": [
    "def count_vowels(string):\n",
    "    vowel_count = 0\n",
    "    string = string.lower()\n",
    "    vowels = {'a', 'e', 'i', 'o', 'u'}\n",
    "\n",
    "    # Count the number of vowels in the string\n",
    "    for char in string:\n",
    "        if char in vowels:\n",
    "            vowel_count += 1\n",
    "\n",
    "    print(\"Number of vowel(s):\", vowel_count)\n",
    "\n",
    "# Prompt the user and execute the function\n",
    "string = input(\"Enter a string: \")\n",
    "print(\"String:\", string)\n",
    "count_vowels(string)\n"
   ]
  },
  {
   "cell_type": "markdown",
   "id": "b6964d3a-8841-419b-8e09-0a0ec887355b",
   "metadata": {},
   "source": [
    "### 6. Prime or not\n",
    "This function checks if a number is prime or not.<b>\n",
    "It calculates the remainder of the number inputted divided by starting from 2 and iterarting all the way up to the number inputted subtracted by one. And if it finds a result in which the remainder is zero, then the number inputted is not a prime number, otherwise it is a prime number"
   ]
  },
  {
   "cell_type": "code",
   "execution_count": 23,
   "id": "bf9bf134-fcd3-41b9-939e-8531faff2f7a",
   "metadata": {},
   "outputs": [
    {
     "name": "stdout",
     "output_type": "stream",
     "text": [
      "23 is indeed a prime number.\n"
     ]
    }
   ],
   "source": [
    "def is_prime(number):\n",
    "    if number <= 1: # Any number less than or equal to 1 is not prime.\n",
    "        return False\n",
    "\n",
    "    for i in range(2, int(number)):\n",
    "        if number % i == 0:\n",
    "            return False\n",
    "\n",
    "    return True\n",
    "\n",
    "# Prompt the user to enter a number\n",
    "number = int(input(\"Enter a number: \"))\n",
    "\n",
    "# Check if the number is prime\n",
    "if is_prime(number):\n",
    "    print(number, \"is indeed a prime number.\")\n",
    "else:\n",
    "    print(number, \"is not a prime number.\")"
   ]
  },
  {
   "cell_type": "markdown",
   "id": "76a9221d-f25e-4120-a1d0-9989e203957c",
   "metadata": {},
   "source": [
    "### 7. Factorial Calculator\n",
    "A function that calculates the factorial of a number using recursion."
   ]
  },
  {
   "cell_type": "code",
   "execution_count": 36,
   "id": "531713de-db8a-48f3-91bb-e1080bd913a3",
   "metadata": {},
   "outputs": [
    {
     "name": "stdout",
     "output_type": "stream",
     "text": [
      "Enter a number:  5\n"
     ]
    },
    {
     "name": "stdout",
     "output_type": "stream",
     "text": [
      "Factorial: 120\n"
     ]
    }
   ],
   "source": [
    "def factorial(num):\n",
    "    if num == 0:  # Factorial of 0 is 1\n",
    "        return 1\n",
    "    else:\n",
    "        return num * factorial(num - 1)\n",
    "\n",
    "number = int(input(\"Enter a number: \"))\n",
    "result = factorial(number)\n",
    "print(\"Factorial:\", result)"
   ]
  },
  {
   "cell_type": "markdown",
   "id": "f8e693d3-3950-4291-a756-4448d1b32574",
   "metadata": {},
   "source": [
    "### 8. Pangram Checker\n",
    "A function that determines whether a given string is a pangram (contains all the letters of the alphabet).<br>\n",
    "Uses for loop to iterate over the string given to determine whether it is pangram or not."
   ]
  },
  {
   "cell_type": "code",
   "execution_count": 25,
   "id": "be7400f3-a651-4a51-a48d-d9d77db4e29a",
   "metadata": {},
   "outputs": [
    {
     "name": "stdout",
     "output_type": "stream",
     "text": [
      "qwertyuioplkjhgfdsazxcvbnm is indeed a pangram.\n"
     ]
    }
   ],
   "source": [
    "import string\n",
    "\n",
    "def pangram_checker(text):\n",
    "    letters = set()\n",
    "\n",
    "    # Makes the program case insenstive\n",
    "    text = text.lower()\n",
    "\n",
    "    for char in text:\n",
    "        if char.isalpha():\n",
    "            letters.add(char)\n",
    "\n",
    "    if letters == set(string.ascii_lowercase):\n",
    "        print(input_str, \"is indeed a pangram.\")\n",
    "    else:\n",
    "        print(input_str, \"is not a pangram.\")\n",
    "\n",
    "input_str = input(\"Enter a text:\")\n",
    "pangram_checker(input_str)\n",
    "        "
   ]
  },
  {
   "cell_type": "markdown",
   "id": "e74c4bdc-7832-4a34-ac27-ac92d133c6b7",
   "metadata": {},
   "source": [
    "### 9. Phonebook\n",
    "A simple dictionary-based phonebook program which uses a while loop to execute a function based on the users request."
   ]
  },
  {
   "cell_type": "code",
   "execution_count": 31,
   "id": "c16eabea-b25d-431b-84d9-8e5c6d5eac1f",
   "metadata": {},
   "outputs": [
    {
     "name": "stdout",
     "output_type": "stream",
     "text": [
      "Welcome to your Phonebook!\n",
      "Enter 'add' to add contact\n",
      "Enter 'search' to search for a contact name\n",
      "Enter 'remove' to remove contact\n",
      "Enter 'display' to display contacts\n",
      "Enter 'quit' to exit the program\n",
      "Contact added successfully!\n",
      "Contact added successfully!\n",
      "Contact added successfully!\n",
      "Phonebook contacts:\n",
      "Abel:  912345678\n",
      "Adonay:  912344321\n",
      "Biniam:  912211221\n",
      "Name: Adonay \n",
      "Phone number: 912344321\n",
      "Biniam's Contact has been removed successfully!\n",
      "Phonebook contacts:\n",
      "Abel:  912345678\n",
      "Adonay:  912344321\n",
      "Invalid entry. Please try again.\n",
      "Exited the phonebook program successfully.\n"
     ]
    }
   ],
   "source": [
    "phonebook = {}\n",
    "\n",
    "def instructions():\n",
    "    print(\"Welcome to your Phonebook!\")\n",
    "    print(\"Enter 'add' to add contact\")\n",
    "    print(\"Enter 'search' to search for a contact name\")\n",
    "    print(\"Enter 'remove' to remove contact\")\n",
    "    print(\"Enter 'display' to display contacts\")\n",
    "    print(\"Enter 'quit' to exit the program\")\n",
    "instructions()\n",
    "\n",
    "def add_contact(name, number):\n",
    "    phonebook[name] = number\n",
    "    print(\"Contact added successfully!\")\n",
    "\n",
    "def search_contact(name):\n",
    "    if name in phonebook:\n",
    "        print(\"Name:\", name, \"\\nPhone number:\", phonebook[name])\n",
    "    else:\n",
    "        print(\"Contact not found.\")\n",
    "\n",
    "def remove_contact(name):\n",
    "    if name in phonebook:\n",
    "        del phonebook[name]\n",
    "        print(name + \"'s Contact has been removed successfully!\")\n",
    "    else:\n",
    "        print(\"Contact not found.\")\n",
    "\n",
    "def display_contacts():\n",
    "    if phonebook:\n",
    "        print(\"Phonebook contacts:\")\n",
    "        for name, number in phonebook.items():\n",
    "            print(name + \": \", number)\n",
    "    else:\n",
    "        print(\"Phonebook is empty.\")\n",
    "        \n",
    "\n",
    "while True:\n",
    "    instruction = input(\"What do you want to do: \").lower()\n",
    "    \n",
    "    if instruction == 'add':\n",
    "        add_contact(input(\"Name: \").capitalize(), int(input(\"Number: \")))\n",
    "    elif instruction == 'search':\n",
    "        search_contact(input(\"Name: \").capitalize())\n",
    "    elif instruction == 'remove':\n",
    "        remove_contact(input(\"Name: \").capitalize())   \n",
    "    elif instruction == 'display':\n",
    "        display_contacts()\n",
    "    elif instruction == 'quit':\n",
    "        print(\"Exited the phonebook program successfully.\")\n",
    "        break\n",
    "    else:\n",
    "        print(\"Invalid entry. Please try again.\")"
   ]
  },
  {
   "cell_type": "markdown",
   "id": "e101ba52-0d00-4142-8079-e143611a0567",
   "metadata": {},
   "source": [
    "### 10. Guess Game\n",
    "A program that generates a random number between 1 and 20, and the user has to guess it. <br>\n",
    "It also compares the randomly generated number with the users guess in order to give the user a hint (for instance \"Too low! Try again\")"
   ]
  },
  {
   "cell_type": "code",
   "execution_count": 32,
   "id": "d2a64aba-59c4-4a8c-bce8-866d8bccb4a3",
   "metadata": {},
   "outputs": [
    {
     "name": "stdout",
     "output_type": "stream",
     "text": [
      "Welcome to the Number Guessing Game!\n",
      "Too high! Try again.\n",
      "Too low! Try again.\n",
      "Too low! Try again.\n",
      "Too low! Try again.\n",
      "Too low! Try again.\n",
      "Congratulations! You guessed the number correctly.\n",
      "Number of attempts: 6\n"
     ]
    }
   ],
   "source": [
    "import random\n",
    "\n",
    "def guess_number():\n",
    "    target_number = random.randint(1, 20)\n",
    "    attempts = 0\n",
    "\n",
    "    while True:\n",
    "        user_guess = int(input(\"Guess a number between 1 and 20: \"))\n",
    "        attempts += 1\n",
    "\n",
    "        if user_guess == target_number:\n",
    "            print(\"Congratulations! You guessed the number correctly.\")\n",
    "            print(\"Number of attempts:\", attempts)\n",
    "            break\n",
    "        elif user_guess < target_number:\n",
    "            print(\"Too low! Try again.\")\n",
    "        else:\n",
    "            print(\"Too high! Try again.\")\n",
    "\n",
    "# Run the game\n",
    "print(\"Welcome to the Number Guessing Game!\")\n",
    "guess_number()"
   ]
  },
  {
   "cell_type": "markdown",
   "id": "08840c08-7d0f-425b-923c-ca10d7f28625",
   "metadata": {},
   "source": [
    "## The End"
   ]
  }
 ],
 "metadata": {
  "kernelspec": {
   "display_name": "anaconda-panel-2023.05-py310",
   "language": "python",
   "name": "conda-env-anaconda-panel-2023.05-py310-py"
  },
  "language_info": {
   "codemirror_mode": {
    "name": "ipython",
    "version": 3
   },
   "file_extension": ".py",
   "mimetype": "text/x-python",
   "name": "python",
   "nbconvert_exporter": "python",
   "pygments_lexer": "ipython3",
   "version": "3.11.4"
  }
 },
 "nbformat": 4,
 "nbformat_minor": 5
}
